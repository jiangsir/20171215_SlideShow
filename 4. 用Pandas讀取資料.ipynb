{
 "cells": [
  {
   "cell_type": "markdown",
   "metadata": {
    "slideshow": {
     "slide_type": "slide"
    }
   },
   "source": [
    "## Pandas 簡介\n",
    "\n",
    "Python 世界的 excel.  \n",
    "也是奠定 Python 在資料分析龍頭地位的重要套件。  "
   ]
  },
  {
   "cell_type": "markdown",
   "metadata": {
    "slideshow": {
     "slide_type": "slide"
    }
   },
   "source": [
    "## Pandas 資料結構兩大重要支柱\n",
    "\n",
    "1. Series  \n",
    "    類似一維陣列，或者 list\n",
    "2. DataFrame  \n",
    "    類似一個表格，也類似二維陣列\n"
   ]
  },
  {
   "cell_type": "markdown",
   "metadata": {
    "collapsed": true,
    "slideshow": {
     "slide_type": "slide"
    }
   },
   "source": [
    "# 用 Pandas 讀取各種資料來源 csv, xls, html\n"
   ]
  },
  {
   "cell_type": "markdown",
   "metadata": {
    "slideshow": {
     "slide_type": "slide"
    }
   },
   "source": [
    "##  讀取 Excel\n",
    "\n",
    "    import pandas as pd\n",
    "    pd.read_excel('', '')\n",
    "    \n",
    "    \n",
    "    "
   ]
  },
  {
   "cell_type": "code",
   "execution_count": 85,
   "metadata": {
    "slideshow": {
     "slide_type": "subslide"
    }
   },
   "outputs": [
    {
     "data": {
      "text/html": [
       "<div>\n",
       "<table border=\"1\" class=\"dataframe\">\n",
       "  <thead>\n",
       "    <tr style=\"text-align: right;\">\n",
       "      <th></th>\n",
       "      <th>編號</th>\n",
       "      <th>姓名</th>\n",
       "      <th>生日</th>\n",
       "      <th>性別</th>\n",
       "      <th>地址</th>\n",
       "    </tr>\n",
       "  </thead>\n",
       "  <tbody>\n",
       "    <tr>\n",
       "      <th>0</th>\n",
       "      <td>A0001</td>\n",
       "      <td>吳佩如</td>\n",
       "      <td>1985-06-22</td>\n",
       "      <td>男</td>\n",
       "      <td>32075桃園市中壢區仁德里17鄰晉元路337巷20弄28號</td>\n",
       "    </tr>\n",
       "    <tr>\n",
       "      <th>1</th>\n",
       "      <td>A0002</td>\n",
       "      <td>黃啟倩</td>\n",
       "      <td>1982-03-09</td>\n",
       "      <td>女</td>\n",
       "      <td>80759高雄市三民區瀋陽街106號7樓</td>\n",
       "    </tr>\n",
       "    <tr>\n",
       "      <th>2</th>\n",
       "      <td>A0003</td>\n",
       "      <td>李建真</td>\n",
       "      <td>1977-11-04</td>\n",
       "      <td>女</td>\n",
       "      <td>台南市東區崇明路139號16樓之1</td>\n",
       "    </tr>\n",
       "    <tr>\n",
       "      <th>3</th>\n",
       "      <td>A0004</td>\n",
       "      <td>葉怡毓</td>\n",
       "      <td>1982-10-30</td>\n",
       "      <td>男</td>\n",
       "      <td>70168 臺南市東區崇明16街36號</td>\n",
       "    </tr>\n",
       "    <tr>\n",
       "      <th>4</th>\n",
       "      <td>A0005</td>\n",
       "      <td>郭怡珊</td>\n",
       "      <td>1988-03-27</td>\n",
       "      <td>女</td>\n",
       "      <td>830高雄市鳳山區崗山北街186巷20號</td>\n",
       "    </tr>\n",
       "  </tbody>\n",
       "</table>\n",
       "</div>"
      ],
      "text/plain": [
       "      編號   姓名         生日 性別                              地址\n",
       "0  A0001  吳佩如 1985-06-22  男  32075桃園市中壢區仁德里17鄰晉元路337巷20弄28號\n",
       "1  A0002  黃啟倩 1982-03-09  女            80759高雄市三民區瀋陽街106號7樓\n",
       "2  A0003  李建真 1977-11-04  女               台南市東區崇明路139號16樓之1\n",
       "3  A0004  葉怡毓 1982-10-30  男             70168 臺南市東區崇明16街36號\n",
       "4  A0005  郭怡珊 1988-03-27  女            830高雄市鳳山區崗山北街186巷20號"
      ]
     },
     "execution_count": 85,
     "metadata": {},
     "output_type": "execute_result"
    }
   ],
   "source": [
    "import os\n",
    "import matplotlib.pyplot as plt\n",
    "import pandas as pd\n",
    "%matplotlib inline\n",
    "\n",
    "basepath = 'datas/'\n",
    "df = pd.read_excel(basepath+'原始資料表.xlsx', 'sheet')\n",
    "\n",
    "### 列出前幾筆資料\n",
    "df.head()\n"
   ]
  },
  {
   "cell_type": "markdown",
   "metadata": {
    "slideshow": {
     "slide_type": "subslide"
    }
   },
   "source": [
    "## 直接讀網址？？會不會太神？"
   ]
  },
  {
   "cell_type": "code",
   "execution_count": 86,
   "metadata": {
    "slideshow": {
     "slide_type": "-"
    }
   },
   "outputs": [
    {
     "data": {
      "text/html": [
       "<div>\n",
       "<table border=\"1\" class=\"dataframe\">\n",
       "  <thead>\n",
       "    <tr style=\"text-align: right;\">\n",
       "      <th></th>\n",
       "      <th>班級</th>\n",
       "      <th>座號</th>\n",
       "      <th>姓名</th>\n",
       "      <th>Unnamed: 3</th>\n",
       "    </tr>\n",
       "  </thead>\n",
       "  <tbody>\n",
       "    <tr>\n",
       "      <th>0</th>\n",
       "      <td>國三智</td>\n",
       "      <td>6</td>\n",
       "      <td>李宜家</td>\n",
       "      <td>進入複賽</td>\n",
       "    </tr>\n",
       "    <tr>\n",
       "      <th>1</th>\n",
       "      <td>國三智</td>\n",
       "      <td>22</td>\n",
       "      <td>陳凱昕</td>\n",
       "      <td>進入複賽</td>\n",
       "    </tr>\n",
       "    <tr>\n",
       "      <th>2</th>\n",
       "      <td>國三義</td>\n",
       "      <td>15</td>\n",
       "      <td>王笠安</td>\n",
       "      <td>進入複賽</td>\n",
       "    </tr>\n",
       "    <tr>\n",
       "      <th>3</th>\n",
       "      <td>國三禮</td>\n",
       "      <td>28</td>\n",
       "      <td>蕭仁竣</td>\n",
       "      <td>進入複賽</td>\n",
       "    </tr>\n",
       "    <tr>\n",
       "      <th>4</th>\n",
       "      <td>國三智</td>\n",
       "      <td>8</td>\n",
       "      <td>林書羽</td>\n",
       "      <td>進入複賽</td>\n",
       "    </tr>\n",
       "    <tr>\n",
       "      <th>5</th>\n",
       "      <td>國三義</td>\n",
       "      <td>14</td>\n",
       "      <td>尹廷安</td>\n",
       "      <td>進入複賽</td>\n",
       "    </tr>\n",
       "    <tr>\n",
       "      <th>6</th>\n",
       "      <td>國三智</td>\n",
       "      <td>29</td>\n",
       "      <td>謝礪仁</td>\n",
       "      <td>進入複賽</td>\n",
       "    </tr>\n",
       "    <tr>\n",
       "      <th>7</th>\n",
       "      <td>國三禮</td>\n",
       "      <td>15</td>\n",
       "      <td>王郁翔</td>\n",
       "      <td>進入複賽</td>\n",
       "    </tr>\n",
       "  </tbody>\n",
       "</table>\n",
       "</div>"
      ],
      "text/plain": [
       "    班級  座號   姓名 Unnamed: 3\n",
       "0  國三智   6  李宜家       進入複賽\n",
       "1  國三智  22  陳凱昕       進入複賽\n",
       "2  國三義  15  王笠安       進入複賽\n",
       "3  國三禮  28  蕭仁竣       進入複賽\n",
       "4  國三智   8  林書羽       進入複賽\n",
       "5  國三義  14  尹廷安       進入複賽\n",
       "6  國三智  29  謝礪仁       進入複賽\n",
       "7  國三禮  15  王郁翔       進入複賽"
      ]
     },
     "execution_count": 86,
     "metadata": {},
     "output_type": "execute_result"
    }
   ],
   "source": [
    "df1 = pd.read_excel('https://apps.nknush.kh.edu.tw/ZeroBB/Download?upfileid=23204')\n",
    "# df = pd.read_excel('http://www.ceec.edu.tw/107TELC/107TELCNews/107%E8%8B%B11_%E8%A9%A6%E5%A0%B4%E5%85%AC%E5%91%8A.xlsx')\n",
    "\n",
    "df1"
   ]
  },
  {
   "cell_type": "code",
   "execution_count": 87,
   "metadata": {
    "slideshow": {
     "slide_type": "subslide"
    }
   },
   "outputs": [
    {
     "name": "stdout",
     "output_type": "stream",
     "text": [
      "<class 'pandas.core.series.Series'>\n"
     ]
    },
    {
     "data": {
      "text/plain": [
       "0      吳佩如\n",
       "1      黃啟倩\n",
       "2      李建真\n",
       "3      葉怡毓\n",
       "4      郭怡珊\n",
       "5      黃金鳳\n",
       "6      陳承娟\n",
       "7      林俊明\n",
       "8      陳秀福\n",
       "9      溫素貞\n",
       "10     劉莉雯\n",
       "11     張雅倩\n",
       "12     姚政廷\n",
       "13     吳政佳\n",
       "14     劉蓉堅\n",
       "15     陳千慧\n",
       "16     袁金謙\n",
       "17     張佳蓉\n",
       "18     白雅馨\n",
       "19     吳京菁\n",
       "20     王偉純\n",
       "21     崔依婷\n",
       "22     陳國侑\n",
       "23     林依芸\n",
       "24     李芳如\n",
       "25     蔡馥漢\n",
       "26     陳建桂\n",
       "27     王鈺婷\n",
       "28     陳逸人\n",
       "29     李千明\n",
       "      ... \n",
       "211    方白昆\n",
       "212    陳建宇\n",
       "213    張雅軍\n",
       "214    黃添玄\n",
       "215    童貴琳\n",
       "216    林思茵\n",
       "217    蕭雅旺\n",
       "218    吳筱芸\n",
       "219    陳青依\n",
       "220    阮家弘\n",
       "221    林火紹\n",
       "222    林梅成\n",
       "223    楊淑伸\n",
       "224    謝林興\n",
       "225    許家梅\n",
       "226    張又年\n",
       "227    張正茹\n",
       "228    周怡婷\n",
       "229    楊瑋玲\n",
       "230    裴建佑\n",
       "231    李明翰\n",
       "232    李重謙\n",
       "233    翁彥良\n",
       "234    羅宜潔\n",
       "235    洪怡靜\n",
       "236    李建成\n",
       "237    朱倩恆\n",
       "238    魏榮妹\n",
       "239    於建彰\n",
       "240    張凱婷\n",
       "Name: 姓名, dtype: object"
      ]
     },
     "execution_count": 87,
     "metadata": {},
     "output_type": "execute_result"
    }
   ],
   "source": [
    "# 用 key 可以取出一個 Series , 並且列出這個 Series\n",
    "print(type(df['姓名']))\n",
    "df['姓名']\n"
   ]
  },
  {
   "cell_type": "code",
   "execution_count": 88,
   "metadata": {
    "slideshow": {
     "slide_type": "subslide"
    }
   },
   "outputs": [
    {
     "name": "stdout",
     "output_type": "stream",
     "text": [
      "<class 'pandas.core.series.Series'>\n"
     ]
    },
    {
     "data": {
      "text/plain": [
       "0      吳佩如\n",
       "1      黃啟倩\n",
       "2      李建真\n",
       "3      葉怡毓\n",
       "4      郭怡珊\n",
       "5      黃金鳳\n",
       "6      陳承娟\n",
       "7      林俊明\n",
       "8      陳秀福\n",
       "9      溫素貞\n",
       "10     劉莉雯\n",
       "11     張雅倩\n",
       "12     姚政廷\n",
       "13     吳政佳\n",
       "14     劉蓉堅\n",
       "15     陳千慧\n",
       "16     袁金謙\n",
       "17     張佳蓉\n",
       "18     白雅馨\n",
       "19     吳京菁\n",
       "20     王偉純\n",
       "21     崔依婷\n",
       "22     陳國侑\n",
       "23     林依芸\n",
       "24     李芳如\n",
       "25     蔡馥漢\n",
       "26     陳建桂\n",
       "27     王鈺婷\n",
       "28     陳逸人\n",
       "29     李千明\n",
       "      ... \n",
       "211    方白昆\n",
       "212    陳建宇\n",
       "213    張雅軍\n",
       "214    黃添玄\n",
       "215    童貴琳\n",
       "216    林思茵\n",
       "217    蕭雅旺\n",
       "218    吳筱芸\n",
       "219    陳青依\n",
       "220    阮家弘\n",
       "221    林火紹\n",
       "222    林梅成\n",
       "223    楊淑伸\n",
       "224    謝林興\n",
       "225    許家梅\n",
       "226    張又年\n",
       "227    張正茹\n",
       "228    周怡婷\n",
       "229    楊瑋玲\n",
       "230    裴建佑\n",
       "231    李明翰\n",
       "232    李重謙\n",
       "233    翁彥良\n",
       "234    羅宜潔\n",
       "235    洪怡靜\n",
       "236    李建成\n",
       "237    朱倩恆\n",
       "238    魏榮妹\n",
       "239    於建彰\n",
       "240    張凱婷\n",
       "Name: 姓名, dtype: object"
      ]
     },
     "execution_count": 88,
     "metadata": {},
     "output_type": "execute_result"
    }
   ],
   "source": [
    "# 也可以直接用 「欄位名稱」 列出內容。\n",
    "print(type(df.姓名))\n",
    "df.姓名"
   ]
  },
  {
   "cell_type": "code",
   "execution_count": 89,
   "metadata": {
    "slideshow": {
     "slide_type": "subslide"
    }
   },
   "outputs": [
    {
     "name": "stdout",
     "output_type": "stream",
     "text": [
      "<class 'numpy.ndarray'>\n"
     ]
    },
    {
     "data": {
      "text/plain": [
       "array(['吳佩如', '黃啟倩', '李建真', '葉怡毓', '郭怡珊', '黃金鳳', '陳承娟', '林俊明', '陳秀福',\n",
       "       '溫素貞', '劉莉雯', '張雅倩', '姚政廷', '吳政佳', '劉蓉堅', '陳千慧', '袁金謙', '張佳蓉',\n",
       "       '白雅馨', '吳京菁', '王偉純', '崔依婷', '陳國侑', '林依芸', '李芳如', '蔡馥漢', '陳建桂',\n",
       "       '王鈺婷', '陳逸人', '李千明', '王志琴', '蔡慶映', '陳志琬', '劉千慧', '王文平', '崔婉紫',\n",
       "       '毛俊穎', '葉陽諭', '黃彥裕', '陳思宜', '蔡麗娟', '吳珮琬', '張孟倫', '林怡勇', '陳郁文',\n",
       "       '童恒蘭', '王俊昀', '曾東純', '張怡婷', '楊愛帆', '陳智翔', '王靜怡', '羅鴻能', '孫孟儒',\n",
       "       '黃士玉', '陳京湖', '李惠雯', '鄭雅雯', '鐘慧娟', '林彥利', '許常南', '邱書瑋', '杜怡婷',\n",
       "       '陳怡華', '周志意', '曹朝修', '吳怡雨', '王聖迪', '陳嘉偉', '連百夢', '李政峰', '林佳淑',\n",
       "       '李宜凱', '吳亮桓', '陳大蓉', '陳思涵', '黃士銘', '陳筱年', '陳乃勳', '劉正偉', '張維哲',\n",
       "       '林雅玲', '劉馨文', '王建修', '陳俊水', '林良辛', '蔣智偉', '陳旭治', '杜承翰', '顏雅君',\n",
       "       '張凱鈞', '王淑梅', '張威廷', '陳芸旭', '劉彥花', '陳智怡', '賴于倫', '李恩屏', '陳琬婷',\n",
       "       '張敬弘', '陳怡俊', '吳偉傑', '陳信一', '陳婷婷', '陳國坤', '劉婉君', '唐健蕙', '金和潔',\n",
       "       '溫雅慧', '劉至辛', '李婉婷', '黃夢禮', '毛瑋玲', '吳淑敏', '王名亞', '黃承翰', '黃靖岳',\n",
       "       '吳志玲', '孫胤達', '許惠茜', '黃佳穎', '曹惠雯', '張妍冰', '李淑芳', '張東堯', '王彥智',\n",
       "       '陳思穎', '黃明珠', '庾怡伶', '林旺妍', '吳佳宏', '林美芸', '張介馨', '朱淑慧', '潘志杰',\n",
       "       '席秋燕', '王凱翔', '蔡桂行', '胡振善', '徐淑華', '陳雅春', '楊季寶', '彭思涵', '陳宥麟',\n",
       "       '楊佳心', '邱必珮', '張萱妃', '林柔信', '楊佳穎', '林怡靜', '毛雅婷', '張文城', '楊宛福',\n",
       "       '張建中', '李平丹', '陳國瑋', '林冠宇', '蔡雅智', '李佳靜', '徐哲維', '謝仲華', '陳紀旺',\n",
       "       '連振宇', '麻于婷', '曹柏翔', '阮怡均', '李宗音', '陳揚虹', '孫慧萍', '楊惠瑞', '李佳穎',\n",
       "       '賴郁婷', '林慧辰', '謝怡君', '陳千慧', '蔡子軒', '李亮江', '王志偉', '陳瑋民', '陳伶木',\n",
       "       '陳靜怡', '翟仰哲', '陳志冰', '王嘉孝', '鐘智傑', '李美萱', '陳萱妃', '劉美君', '蔡文忠',\n",
       "       '劉博鈞', '吳建剛', '陳嘉全', '陳世季', '陳嘉芝', '林茜松', '陳郁涵', '邱長博', '林瑞政',\n",
       "       '劉潔宜', '吳盛誠', '陳曉士', '許宛玲', '陳素茵', '蔣宗翰', '蔡雅皓', '潘雅婷', '林晉緯',\n",
       "       '李威娟', '黃晉任', '俞玉玲', '林志忠', '方白昆', '陳建宇', '張雅軍', '黃添玄', '童貴琳',\n",
       "       '林思茵', '蕭雅旺', '吳筱芸', '陳青依', '阮家弘', '林火紹', '林梅成', '楊淑伸', '謝林興',\n",
       "       '許家梅', '張又年', '張正茹', '周怡婷', '楊瑋玲', '裴建佑', '李明翰', '李重謙', '翁彥良',\n",
       "       '羅宜潔', '洪怡靜', '李建成', '朱倩恆', '魏榮妹', '於建彰', '張凱婷'], dtype=object)"
      ]
     },
     "execution_count": 89,
     "metadata": {},
     "output_type": "execute_result"
    }
   ],
   "source": [
    "## Series 裡還有 values 來取得 numpy 的 array 資料\n",
    "\n",
    "print(type(df.姓名.values))\n",
    "df.姓名.values"
   ]
  },
  {
   "cell_type": "code",
   "execution_count": 90,
   "metadata": {
    "slideshow": {
     "slide_type": "subslide"
    }
   },
   "outputs": [
    {
     "data": {
      "image/png": "[encoded data removed]",
      "text/plain": [
       "<matplotlib.figure.Figure at 0x1152430f0>"
      ]
     },
     "metadata": {},
     "output_type": "display_data"
    },
    {
     "data": {
      "text/plain": [
       "['.DS_Store', '原始資料表.xlsx', '原始資料表_new.xlsx', '自己生資料.xlsx']"
      ]
     },
     "execution_count": 90,
     "metadata": {},
     "output_type": "execute_result"
    }
   ],
   "source": [
    "#print(data)\n",
    "#print(pd.Timestamp.now().year)\n",
    "#print(data['姓名'][0], type(data['生日'][0]))\n",
    "#print(pd.Timestamp.now().year-data['生日'][0].year)\n",
    "birthlist = []\n",
    "for birth in df['生日']:\n",
    "    birthlist.append(pd.Timestamp.now().year-birth.year)\n",
    "\n",
    "\n",
    "births = pd.Series(birthlist)\n",
    "births.plot()\n",
    "plt.show()\n",
    "\n",
    "#print(births)\n",
    "df['年紀'] = pd.Series(births, index=df.index)\n",
    "#print(data)\n",
    "\n",
    "\n",
    "writer = pd.ExcelWriter(basepath+'原始資料表_new.xlsx')\n",
    "df.to_excel(writer,'Sheet1')\n",
    "os.getcwd()\n",
    "os.listdir(basepath)\n"
   ]
  },
  {
   "cell_type": "code",
   "execution_count": 91,
   "metadata": {
    "slideshow": {
     "slide_type": "subslide"
    }
   },
   "outputs": [
    {
     "data": {
      "text/html": [
       "<div>\n",
       "<table border=\"1\" class=\"dataframe\">\n",
       "  <thead>\n",
       "    <tr style=\"text-align: right;\">\n",
       "      <th></th>\n",
       "      <th>編號</th>\n",
       "      <th>姓名</th>\n",
       "      <th>生日</th>\n",
       "      <th>性別</th>\n",
       "      <th>地址</th>\n",
       "      <th>年紀</th>\n",
       "    </tr>\n",
       "  </thead>\n",
       "  <tbody>\n",
       "    <tr>\n",
       "      <th>0</th>\n",
       "      <td>A0001</td>\n",
       "      <td>吳佩如</td>\n",
       "      <td>1985-06-22</td>\n",
       "      <td>男</td>\n",
       "      <td>32075桃園市中壢區仁德里17鄰晉元路337巷20弄28號</td>\n",
       "      <td>32</td>\n",
       "    </tr>\n",
       "    <tr>\n",
       "      <th>1</th>\n",
       "      <td>A0002</td>\n",
       "      <td>黃啟倩</td>\n",
       "      <td>1982-03-09</td>\n",
       "      <td>女</td>\n",
       "      <td>80759高雄市三民區瀋陽街106號7樓</td>\n",
       "      <td>35</td>\n",
       "    </tr>\n",
       "    <tr>\n",
       "      <th>2</th>\n",
       "      <td>A0003</td>\n",
       "      <td>李建真</td>\n",
       "      <td>1977-11-04</td>\n",
       "      <td>女</td>\n",
       "      <td>台南市東區崇明路139號16樓之1</td>\n",
       "      <td>40</td>\n",
       "    </tr>\n",
       "    <tr>\n",
       "      <th>3</th>\n",
       "      <td>A0004</td>\n",
       "      <td>葉怡毓</td>\n",
       "      <td>1982-10-30</td>\n",
       "      <td>男</td>\n",
       "      <td>70168 臺南市東區崇明16街36號</td>\n",
       "      <td>35</td>\n",
       "    </tr>\n",
       "    <tr>\n",
       "      <th>4</th>\n",
       "      <td>A0005</td>\n",
       "      <td>郭怡珊</td>\n",
       "      <td>1988-03-27</td>\n",
       "      <td>女</td>\n",
       "      <td>830高雄市鳳山區崗山北街186巷20號</td>\n",
       "      <td>29</td>\n",
       "    </tr>\n",
       "  </tbody>\n",
       "</table>\n",
       "</div>"
      ],
      "text/plain": [
       "      編號   姓名         生日 性別                              地址  年紀\n",
       "0  A0001  吳佩如 1985-06-22  男  32075桃園市中壢區仁德里17鄰晉元路337巷20弄28號  32\n",
       "1  A0002  黃啟倩 1982-03-09  女            80759高雄市三民區瀋陽街106號7樓  35\n",
       "2  A0003  李建真 1977-11-04  女               台南市東區崇明路139號16樓之1  40\n",
       "3  A0004  葉怡毓 1982-10-30  男             70168 臺南市東區崇明16街36號  35\n",
       "4  A0005  郭怡珊 1988-03-27  女            830高雄市鳳山區崗山北街186巷20號  29"
      ]
     },
     "execution_count": 91,
     "metadata": {},
     "output_type": "execute_result"
    }
   ],
   "source": [
    "### 列出前幾筆資料\n",
    "\n",
    "df.head()"
   ]
  },
  {
   "cell_type": "markdown",
   "metadata": {
    "slideshow": {
     "slide_type": "slide"
    }
   },
   "source": [
    "## 用 loc 定位資料格。\n"
   ]
  },
  {
   "cell_type": "code",
   "execution_count": 92,
   "metadata": {
    "slideshow": {
     "slide_type": "subslide"
    }
   },
   "outputs": [
    {
     "data": {
      "text/html": [
       "<div>\n",
       "<table border=\"1\" class=\"dataframe\">\n",
       "  <thead>\n",
       "    <tr style=\"text-align: right;\">\n",
       "      <th></th>\n",
       "      <th>編號</th>\n",
       "      <th>姓名</th>\n",
       "      <th>生日</th>\n",
       "      <th>性別</th>\n",
       "      <th>地址</th>\n",
       "      <th>年紀</th>\n",
       "    </tr>\n",
       "  </thead>\n",
       "  <tbody>\n",
       "    <tr>\n",
       "      <th>0</th>\n",
       "      <td>A0001</td>\n",
       "      <td>吳佩如</td>\n",
       "      <td>1985-06-22</td>\n",
       "      <td>男</td>\n",
       "      <td>32075桃園市中壢區仁德里17鄰晉元路337巷20弄28號</td>\n",
       "      <td>32</td>\n",
       "    </tr>\n",
       "    <tr>\n",
       "      <th>1</th>\n",
       "      <td>A0002</td>\n",
       "      <td>黃啟倩</td>\n",
       "      <td>1982-03-09</td>\n",
       "      <td>女</td>\n",
       "      <td>80759高雄市三民區瀋陽街106號7樓</td>\n",
       "      <td>35</td>\n",
       "    </tr>\n",
       "    <tr>\n",
       "      <th>2</th>\n",
       "      <td>A0003</td>\n",
       "      <td>李建真</td>\n",
       "      <td>1977-11-04</td>\n",
       "      <td>女</td>\n",
       "      <td>台南市東區崇明路139號16樓之1</td>\n",
       "      <td>40</td>\n",
       "    </tr>\n",
       "    <tr>\n",
       "      <th>3</th>\n",
       "      <td>A0004</td>\n",
       "      <td>葉怡毓</td>\n",
       "      <td>1982-10-30</td>\n",
       "      <td>男</td>\n",
       "      <td>70168 臺南市東區崇明16街36號</td>\n",
       "      <td>35</td>\n",
       "    </tr>\n",
       "    <tr>\n",
       "      <th>4</th>\n",
       "      <td>A0005</td>\n",
       "      <td>郭怡珊</td>\n",
       "      <td>1988-03-27</td>\n",
       "      <td>女</td>\n",
       "      <td>830高雄市鳳山區崗山北街186巷20號</td>\n",
       "      <td>29</td>\n",
       "    </tr>\n",
       "  </tbody>\n",
       "</table>\n",
       "</div>"
      ],
      "text/plain": [
       "      編號   姓名         生日 性別                              地址  年紀\n",
       "0  A0001  吳佩如 1985-06-22  男  32075桃園市中壢區仁德里17鄰晉元路337巷20弄28號  32\n",
       "1  A0002  黃啟倩 1982-03-09  女            80759高雄市三民區瀋陽街106號7樓  35\n",
       "2  A0003  李建真 1977-11-04  女               台南市東區崇明路139號16樓之1  40\n",
       "3  A0004  葉怡毓 1982-10-30  男             70168 臺南市東區崇明16街36號  35\n",
       "4  A0005  郭怡珊 1988-03-27  女            830高雄市鳳山區崗山北街186巷20號  29"
      ]
     },
     "execution_count": 92,
     "metadata": {},
     "output_type": "execute_result"
    }
   ],
   "source": [
    "\n",
    "df.loc[8, '姓名'] = '王某某'\n",
    "df.head()\n"
   ]
  },
  {
   "cell_type": "code",
   "execution_count": 94,
   "metadata": {
    "slideshow": {
     "slide_type": "subslide"
    }
   },
   "outputs": [
    {
     "data": {
      "text/html": [
       "<div>\n",
       "<table border=\"1\" class=\"dataframe\">\n",
       "  <thead>\n",
       "    <tr style=\"text-align: right;\">\n",
       "      <th></th>\n",
       "      <th>編號</th>\n",
       "      <th>姓名</th>\n",
       "      <th>生日</th>\n",
       "      <th>性別</th>\n",
       "      <th>地址</th>\n",
       "      <th>年紀</th>\n",
       "    </tr>\n",
       "  </thead>\n",
       "  <tbody>\n",
       "    <tr>\n",
       "      <th>0</th>\n",
       "      <td>A0001</td>\n",
       "      <td>吳佩如</td>\n",
       "      <td>1985-06-22</td>\n",
       "      <td>男</td>\n",
       "      <td>32075桃園市中壢區仁德里17鄰晉元路337巷20弄28號</td>\n",
       "      <td>32</td>\n",
       "    </tr>\n",
       "    <tr>\n",
       "      <th>1</th>\n",
       "      <td>A0002</td>\n",
       "      <td>黃啟倩</td>\n",
       "      <td>1982-03-09</td>\n",
       "      <td>女</td>\n",
       "      <td>80759高雄市三民區瀋陽街106號7樓</td>\n",
       "      <td>35</td>\n",
       "    </tr>\n",
       "    <tr>\n",
       "      <th>2</th>\n",
       "      <td>A0003</td>\n",
       "      <td>李建真</td>\n",
       "      <td>1977-11-04</td>\n",
       "      <td>女</td>\n",
       "      <td>台南市東區崇明路139號16樓之1</td>\n",
       "      <td>35</td>\n",
       "    </tr>\n",
       "    <tr>\n",
       "      <th>3</th>\n",
       "      <td>A0004</td>\n",
       "      <td>葉怡毓</td>\n",
       "      <td>1982-10-30</td>\n",
       "      <td>男</td>\n",
       "      <td>70168 臺南市東區崇明16街36號</td>\n",
       "      <td>35</td>\n",
       "    </tr>\n",
       "    <tr>\n",
       "      <th>4</th>\n",
       "      <td>A0005</td>\n",
       "      <td>郭怡珊</td>\n",
       "      <td>1988-03-27</td>\n",
       "      <td>女</td>\n",
       "      <td>830高雄市鳳山區崗山北街186巷20號</td>\n",
       "      <td>29</td>\n",
       "    </tr>\n",
       "  </tbody>\n",
       "</table>\n",
       "</div>"
      ],
      "text/plain": [
       "      編號   姓名         生日 性別                              地址  年紀\n",
       "0  A0001  吳佩如 1985-06-22  男  32075桃園市中壢區仁德里17鄰晉元路337巷20弄28號  32\n",
       "1  A0002  黃啟倩 1982-03-09  女            80759高雄市三民區瀋陽街106號7樓  35\n",
       "2  A0003  李建真 1977-11-04  女               台南市東區崇明路139號16樓之1  35\n",
       "3  A0004  葉怡毓 1982-10-30  男             70168 臺南市東區崇明16街36號  35\n",
       "4  A0005  郭怡珊 1988-03-27  女            830高雄市鳳山區崗山北街186巷20號  29"
      ]
     },
     "execution_count": 94,
     "metadata": {},
     "output_type": "execute_result"
    }
   ],
   "source": [
    "# 尋找所有 年紀 > 35 的人員，將年紀設定為 35\n",
    "df.loc[df.年紀>35, '年紀'] = 35\n",
    "df.head()"
   ]
  }
 ],
 "metadata": {
  "celltoolbar": "Slideshow",
  "kernelspec": {
   "display_name": "Python 3",
   "language": "python",
   "name": "python3"
  },
  "language_info": {
   "codemirror_mode": {
    "name": "ipython",
    "version": 3
   },
   "file_extension": ".py",
   "mimetype": "text/x-python",
   "name": "python",
   "nbconvert_exporter": "python",
   "pygments_lexer": "ipython3",
   "version": "3.5.1"
  }
 },
 "nbformat": 4,
 "nbformat_minor": 1
}

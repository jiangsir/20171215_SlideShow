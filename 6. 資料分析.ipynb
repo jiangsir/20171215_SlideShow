{
 "cells": [
  {
   "cell_type": "markdown",
   "metadata": {
    "slideshow": {
     "slide_type": "slide"
    }
   },
   "source": [
    "# 簡易資料分析\n"
   ]
  },
  {
   "cell_type": "markdown",
   "metadata": {
    "slideshow": {
     "slide_type": "-"
    }
   },
   "source": [
    "## 沒有資料？就自己生囉！\n"
   ]
  },
  {
   "cell_type": "code",
   "execution_count": null,
   "metadata": {
    "collapsed": true
   },
   "outputs": [],
   "source": [
    "%matplotlib inline\n",
    "import numpy as np\n",
    "import matplotlib.pyplot as plt\n",
    "import pandas as pd\n"
   ]
  },
  {
   "cell_type": "code",
   "execution_count": 12,
   "metadata": {},
   "outputs": [
    {
     "data": {
      "text/plain": [
       "6"
      ]
     },
     "execution_count": 12,
     "metadata": {},
     "output_type": "execute_result"
    }
   ],
   "source": [
    "## 使用 numpy 的 random\n",
    "import numpy as np\n",
    "\n",
    "np.random.randint(1, 100) # 從 1 ~ 99 取出亂數。\n"
   ]
  },
  {
   "cell_type": "markdown",
   "metadata": {
    "slideshow": {
     "slide_type": "slide"
    }
   },
   "source": [
    "## 神奇的 nparray\n",
    "\n",
    "能不用迴圈就不要用迴圈吧！\n"
   ]
  },
  {
   "cell_type": "code",
   "execution_count": 28,
   "metadata": {
    "slideshow": {
     "slide_type": "subslide"
    }
   },
   "outputs": [
    {
     "name": "stdout",
     "output_type": "stream",
     "text": [
      "<class 'list'>\n",
      "[12, 24, 75, 33]\n",
      "<class 'numpy.ndarray'>\n",
      "[12 24 75 33]\n",
      "[ 36  72 225  99]\n"
     ]
    }
   ],
   "source": [
    "import numpy as np\n",
    "\n",
    "# 這是一個普通 list\n",
    "p = [12, 24, 75, 33]\n",
    "print(type(p))\n",
    "print(p)\n",
    "\n",
    "p = np.array(p)\n",
    "print(type(p))\n",
    "print(p)\n",
    "\n",
    "# 神奇 array 直接幫你吧 array 內所有值都 * 3\n",
    "print(p * 3)\n"
   ]
  },
  {
   "cell_type": "code",
   "execution_count": 33,
   "metadata": {
    "slideshow": {
     "slide_type": "subslide"
    }
   },
   "outputs": [
    {
     "name": "stdout",
     "output_type": "stream",
     "text": [
      "兩個 array 做內積 ＝  82.6\n",
      "兩個 array 相乘的和 82.6\n",
      "5 個學生的學期成績 ＝ [ 82.6  60.5  69.5  76.4  37.3]\n"
     ]
    }
   ],
   "source": [
    "scores = np.array([68, 80, 90])\n",
    "權重 = np.array([0.2, 0.3, 0.5])\n",
    "print('兩個 array 做內積 ＝ ', np.dot(scores, 權重))\n",
    "\n",
    "# 相當於\n",
    "\n",
    "print('兩個 array 相乘的和', (scores * 權重).sum())\n",
    "\n",
    "\n",
    "## 二維資料比較接近現實。\n",
    "# 假設有 5 個學生的成績\n",
    "scores = np.array([[68, 80, 90], [50, 60, 65], [56, 86, 65], [62, 85, 77], [23, 34, 45]])\n",
    "權重 = np.array([0.2, 0.3, 0.5])\n",
    "\n",
    "# 原理就是 每一個 元素 都做 dot 運算。\n",
    "print('5 個學生的學期成績 ＝', np.dot(scores, 權重))"
   ]
  },
  {
   "cell_type": "code",
   "execution_count": 34,
   "metadata": {},
   "outputs": [
    {
     "data": {
      "text/plain": [
       "array([ 0.0310803 ,  0.46206984,  0.80446874,  0.73743939,  1.08200201,\n",
       "        0.07020305, -0.3613373 , -0.2924351 ,  1.04977821,  1.25332858,\n",
       "        0.65335049, -0.63267289,  0.3632504 ,  1.87499774, -0.35846822,\n",
       "        1.27505707,  1.99059637, -1.54628659, -1.95038951, -0.64072791,\n",
       "       -1.22411324,  0.14609413, -0.68339367, -0.4721318 ,  0.10053239,\n",
       "        0.37209613,  0.10378389, -0.42119982, -1.24132997,  0.26407215,\n",
       "       -1.29498335, -2.63952777,  0.10461856, -0.12129959, -1.77098422,\n",
       "        1.28275386,  1.55659085, -0.06119052, -0.55045242, -0.7472166 ,\n",
       "       -1.4217234 , -0.50196255,  1.53217846,  0.72335998, -0.67726332,\n",
       "       -1.00880075,  0.3285239 ,  1.69927312, -0.26365578,  1.73457675,\n",
       "        0.18172234,  1.48300474, -0.78758539,  0.18107966, -0.85075326,\n",
       "       -0.15045184, -0.32320938,  1.95222623,  0.12564649,  0.2569678 ,\n",
       "        0.40345108, -1.01009748,  0.38910267,  0.05182356,  2.33577625,\n",
       "        1.27799635, -1.78134965, -0.37144166, -0.0964149 , -0.73448791,\n",
       "        1.44348194,  0.08411704,  1.52456776,  0.53749179,  0.02965521,\n",
       "        1.31866031, -0.35907612, -0.07088898, -0.78242022, -0.39130282,\n",
       "        0.06647276,  0.6238289 ,  0.37341006,  1.65173644, -0.82622145,\n",
       "       -0.50955353,  2.04921219, -0.79517495,  1.43188241, -0.2419311 ,\n",
       "       -0.89119498,  1.76971324, -0.5581072 ,  0.1414974 , -2.19227689,\n",
       "       -0.0461255 ,  0.26170717, -0.61373665,  0.34080352, -1.4503835 ])"
      ]
     },
     "execution_count": 34,
     "metadata": {},
     "output_type": "execute_result"
    }
   ],
   "source": [
    "# numpy 套件的 random 功能可以取得 常態分佈的亂數。\n",
    "# 也就是 平均值 0 標準差 1 的資料集。\n",
    "np.random.randn(100)"
   ]
  },
  {
   "cell_type": "code",
   "execution_count": 70,
   "metadata": {},
   "outputs": [
    {
     "data": {
      "text/plain": [
       "array([ 63.75503256,  77.73669292,  79.93498345,  52.45259407,\n",
       "        68.70055008,  71.87704601,  81.3799592 ,  81.01259826,\n",
       "        63.99911244,  63.67317294,  63.15571562,  62.08077453,\n",
       "        58.37305913,  67.68526142,  78.0331307 ,  62.54093323,\n",
       "        74.18923236,  72.90463089,  67.56790406,  54.13710591,\n",
       "        76.49488897,  84.91868719,  65.64384406,  58.51831425,\n",
       "        73.77344545,  84.5912662 ,  71.85414532,  76.33504082,\n",
       "        68.80351382,  53.66706052,  70.13903576,  75.46674823,\n",
       "        61.26621798,  67.89203982,  79.91829156,  68.45354036,\n",
       "        97.58612187,  72.71155332,  50.31499429,  67.71861793,\n",
       "        64.60460512,  71.82518257,  56.80053842,  65.79272175,\n",
       "        74.64998395,  77.64191168,  58.83706614,  74.9597005 ,\n",
       "        73.12667051,  67.26168115,  72.18392759,  77.54850316,\n",
       "        75.10693855,  71.98817254,  67.32554527,  67.84111064,\n",
       "        69.21657469,  69.14036002,  70.85093372,  74.37554729,\n",
       "        81.66993671,  75.60664251,  66.14000305,  59.90822142,\n",
       "        79.9186307 ,  60.6445225 ,  58.70553424,  61.68217697,\n",
       "        67.23806038,  91.30822923,  99.36909997,  49.68972673,\n",
       "        57.65742952,  87.69527457,  62.37204199,  55.86775088,\n",
       "        70.73243044,  69.91462706,  63.2230439 ,  53.51072923,\n",
       "        65.03495435,  65.87420689,  54.79558503,  71.29210065,\n",
       "        51.88388132,  67.82377981,  73.54730237,  65.12981933,\n",
       "        61.744652  ,  65.13674734,  64.61630181,  93.14099059,\n",
       "        58.85411737,  64.60381493,  82.51547347,  68.04604151,\n",
       "        83.52877147,  73.44705275,  66.99116247,  58.29043016])"
      ]
     },
     "execution_count": 70,
     "metadata": {},
     "output_type": "execute_result"
    }
   ],
   "source": [
    "# 調整範圍\n",
    "scores = np.random.randn(100) * 10 + 70\n",
    "scores"
   ]
  },
  {
   "cell_type": "markdown",
   "metadata": {
    "slideshow": {
     "slide_type": "subslide"
    }
   },
   "source": [
    "## 再來一個神奇的變身\n",
    "\n",
    "直接把 1 * 100 的陣列變成 10 * 10 的二維陣列。\n"
   ]
  },
  {
   "cell_type": "code",
   "execution_count": 76,
   "metadata": {},
   "outputs": [
    {
     "name": "stdout",
     "output_type": "stream",
     "text": [
      "(10, 10)\n"
     ]
    },
    {
     "data": {
      "text/plain": [
       "array([[ 63.75503256,  77.73669292,  79.93498345,  52.45259407,\n",
       "         68.70055008,  71.87704601,  81.3799592 ,  81.01259826,\n",
       "         63.99911244,  63.67317294],\n",
       "       [ 63.15571562,  62.08077453,  58.37305913,  67.68526142,\n",
       "         78.0331307 ,  62.54093323,  74.18923236,  72.90463089,\n",
       "         67.56790406,  54.13710591],\n",
       "       [ 76.49488897,  84.91868719,  65.64384406,  58.51831425,\n",
       "         73.77344545,  84.5912662 ,  71.85414532,  76.33504082,\n",
       "         68.80351382,  53.66706052],\n",
       "       [ 70.13903576,  75.46674823,  61.26621798,  67.89203982,\n",
       "         79.91829156,  68.45354036,  97.58612187,  72.71155332,\n",
       "         50.31499429,  67.71861793],\n",
       "       [ 64.60460512,  71.82518257,  56.80053842,  65.79272175,\n",
       "         74.64998395,  77.64191168,  58.83706614,  74.9597005 ,\n",
       "         73.12667051,  67.26168115],\n",
       "       [ 72.18392759,  77.54850316,  75.10693855,  71.98817254,\n",
       "         67.32554527,  67.84111064,  69.21657469,  69.14036002,\n",
       "         70.85093372,  74.37554729],\n",
       "       [ 81.66993671,  75.60664251,  66.14000305,  59.90822142,\n",
       "         79.9186307 ,  60.6445225 ,  58.70553424,  61.68217697,\n",
       "         67.23806038,  91.30822923],\n",
       "       [ 99.36909997,  49.68972673,  57.65742952,  87.69527457,\n",
       "         62.37204199,  55.86775088,  70.73243044,  69.91462706,\n",
       "         63.2230439 ,  53.51072923],\n",
       "       [ 65.03495435,  65.87420689,  54.79558503,  71.29210065,\n",
       "         51.88388132,  67.82377981,  73.54730237,  65.12981933,\n",
       "         61.744652  ,  65.13674734],\n",
       "       [ 64.61630181,  93.14099059,  58.85411737,  64.60381493,\n",
       "         82.51547347,  68.04604151,  83.52877147,  73.44705275,\n",
       "         66.99116247,  58.29043016]])"
      ]
     },
     "execution_count": 76,
     "metadata": {},
     "output_type": "execute_result"
    }
   ],
   "source": [
    "print(scores.shape)\n",
    "\n",
    "scores.shape = (10, 10)\n",
    "scores"
   ]
  },
  {
   "cell_type": "markdown",
   "metadata": {
    "slideshow": {
     "slide_type": "slide"
    }
   },
   "source": [
    "## 直接獲取「姓名產生器」的結果。\n",
    "\n",
    "### 運用爬蟲技術，直接到網站抓取姓名結果，並且變成一個 list 以便進行後續處理。"
   ]
  },
  {
   "cell_type": "code",
   "execution_count": 129,
   "metadata": {
    "slideshow": {
     "slide_type": "subslide"
    }
   },
   "outputs": [
    {
     "name": "stdout",
     "output_type": "stream",
     "text": [
      "<script type=\"text/javascript\">\r\n",
      "window.google_analytics_uacct = \"UA-103495-7\";\r\n",
      "</script>\r\n",
      "<!DOCTYPE HTML PUBLIC \"-//W3C//DTD HTML 4.01 Transitional//EN\"\r\n",
      "\"http://www.w3.org/TR/html4/loose.dtd\">\r\n",
      "<HTML lang=\"zh-TW\">\r\n",
      "<head>\r\n",
      "<title>中文姓名產生器 : 命名、起名、取名參考工具- Chinese Name Generator </title>\r\n",
      "<meta name=\"keywords\" content=\"命名, 起名, 姓名學, 姓名, 藝名, 花名, 名字, 嬰兒命名, 命名軟體, 文學, 創作, 取名, 小說\">\r\n",
      "<meta name=\"description\" content=\"提供電腦化產生姓名的快速機制，文字創作者的最愛，本土小說家最常使用的網路工具之一。\">\r\n",
      "<meta http-equiv=\"Content-Type\" content=\"text/html; charset=big5\">\r\n",
      "<link rel=\"shortcut icon\" href=\"/favicon.ico\" />\r\n",
      "</head>\r\n",
      "<body bgcolor=\"white\">\r\n",
      "\r\n",
      "<table width=\"700\" border=\"0\" align=\"center\">\r\n",
      "<tr>\r\n",
      "<td colspan=\"2\">\r\n",
      "<h1>中文姓名產生器 <a href=\"history.htm\">v3.4</a></h1>\r\n",
      "\r\n",
      " <form name=\"form\" action=\"index.asp\" method=\"post\" >\r\n",
      "    <hr>\r\n",
      "    <table width=\"730\" border=\"0\" cellpadding=\"2\" cellspacing=\"0\">\r\n",
      "      <tr>\r\n",
      "        <td><div align=\"left\"><b>想產生多少名字</b></div></td>\r\n",
      "        <td>\r\n",
      "          <div align=\"left\">\r\n",
      "            <select name=\"name_count\" class=\"11p\">\r\n",
      "                  <option value=\"10\">10</option>\r\n",
      "                  <option value=\"50\">50</option>\r\n",
      "                  <option value=\"100\" selected>100</option>\r\n",
      "                  <option value=\"200\">200</option>\r\n",
      "                  <option value=\"500\">500</option>\r\n",
      "                  <option value=\"1000\">1000</option>\r\n",
      "                  <option value=\"2000\">2000</option>\r\n",
      "                  <option value=\"5000\">5000</option>\r\n",
      "                  <option value=\"10000\">10000</option>\r\n",
      "                  <option value=\"20000\">20000</option>\r\n",
      "            </select>\r\n",
      "          </div></td>\r\n",
      "        <td><div align=\"center\"><b>要如何分隔</b> </div></td>\r\n",
      "        <td>\r\n",
      "          <div align=\"left\">\r\n",
      "            <select name=\"break\">\r\n",
      "                  <option value=\"1\" selected>全形頓號（、）</option>\r\n",
      "                  <option value=\"2 \">半形逗點（,）</option>\r\n",
      "                  <option value=\"3\">斷行</option>\r\n",
      "                  <option value=\"4\">附上身份證字號</option>\r\n",
      "            </select>\r\n",
      "          </div></td>\r\n",
      "        <td>\r\n",
      "          <div align=\"left\">\r\n",
      "            <input type=\"submit\" name=\"Submit\" value=\"快速產生名字吧！\">\r\n",
      "          </div></td>\r\n",
      "        </tr>\r\n",
      "      <tr>\r\n",
      "        <td><div align=\"left\"><b>我要自己決定姓</b></div></td>\r\n",
      "        <td><div align=\"left\">\r\n",
      "          <input name=\"yourname\" type=\"text\" class=\"11p\" id=\"yourname\" value=\"\" size=\"4\" maxlength=\"4\">\r\n",
      "        </div></td>\r\n",
      "        <td colspan=\"3\"><div align=\"left\"><span class=\"style8\">（非必要，若要依此為嬰兒命名，請三思！）</span></div></td>\r\n",
      "        </tr>\r\n",
      "    </table>\r\n",
      "    <hr>\r\n",
      "   </form>\r\n",
      "</td>\r\n",
      "</tr>\r\n",
      "<tr><td colspan=\"2\">\r\n",
      "\r\n",
      "<p align=\"center\">\r\n",
      "\r\n",
      "<script type=\"text/javascript\"><!--\r\n",
      "google_ad_client = \"ca-pub-8557565258139827\";\r\n",
      "/* Name - N 728 */\r\n",
      "google_ad_slot = \"2963413935\";\r\n",
      "google_ad_width = 728;\r\n",
      "google_ad_height = 90;\r\n",
      "//-->\r\n",
      "</script>\r\n",
      "<script type=\"text/javascript\"\r\n",
      "src=\"http://pagead2.googlesyndication.com/pagead/show_ads.js\">\r\n",
      "</script>\r\n",
      "\r\n",
      "</td></tr>\r\n",
      "<tr><td valign=\"top\">\r\n",
      "\r\n",
      "劉軍賢、謝映禎、楊宣佐、林天琪、陳惠玲、陳浩季、曾玉萍、李惠珊、朱雅芬、林筱亦、林盈安、盧怡君、戴嘉玲、鄭冠勳、江玉梅、朱予沛、陳雅志、柯秀玲、吳添妃、盧誠凌、吳雅雯、崔裕翔、郭俊宏、曾方緯、溫建勳、許鎮嬌、劉昭琇、黃松威、張肇穎、陳宛儒、陳書瑋、陳台柏、蔡芃平、郭依純、林如芳、張麗美、吳凱婷、王聖珠、馬雅芬、張白博、季希陽、許紀伯、許俊賢、周嬌璇、孫文華、陳靜芳、黃雅貞、陳智臻、謝仕豪、顏守妍、莊雅輝、王金喜、李信宏、連玉鳳、林育茜、吳怡君、高白芬、林佑紫、黃國芝、張嘉一、陳昭華、張淑玲、林志傑、雲台依、吳冰水、游佑強、駱威洋、楊丞天、張珮如、王可俐、黎婷婷、趙紫山、蔡可原、林于湖、李文婷、林佳宇、尤富軍、方初樺、楊仰婷、連若男、王佳純、謝平中、李姿柏、王宏達、李吟凌、丁健郁、林承帆、張雅琪、張盈枝、陳怡萱、蘇毅仁、蔡政儒、李佩穎、陸富秀、陳慧茹、劉羿群、詹羽胤、韓建佑、廖冠宇、劉岳辛、＃名單結束＃以上共產生100個中文姓名，陳姓的共有11個，比例為：11%（<a href=\"big_10.htm\">正常比例約在11%左右</a>）。 \r\n",
      "\t\t</td>\r\n",
      "\t\t<td valign=\"top\" width=\"300\">\r\n",
      "<script type=\"text/javascript\"><!--\r\n",
      "google_ad_client = \"pub-8557565258139827\";\r\n",
      "/* Name-LREC-1 */\r\n",
      "google_ad_slot = \"3476576480\";\r\n",
      "google_ad_width = 300;\r\n",
      "google_ad_height = 250;\r\n",
      "//-->\r\n",
      "</script>\r\n",
      "<script type=\"text/javascript\"\r\n",
      "src=\"http://pagead2.googlesyndication.com/pagead/show_ads.js\">\r\n",
      "</script>\r\n",
      "\r\n",
      "<script type=\"text/javascript\"><!--\r\n",
      "google_ad_client = \"pub-8557565258139827\";\r\n",
      "/* Name-LREC-2 */\r\n",
      "google_ad_slot = \"9759194601\";\r\n",
      "google_ad_width = 300;\r\n",
      "google_ad_height = 250;\r\n",
      "//-->\r\n",
      "</script>\r\n",
      "<script type=\"text/javascript\"\r\n",
      "src=\"http://pagead2.googlesyndication.com/pagead/show_ads.js\">\r\n",
      "</script>\r\n",
      "\t\t</td>\r\n",
      "\t</tr>\r\n",
      "\t<tr>\r\n",
      "\t\t<td colspan=\"2\">\r\n",
      "\r\n",
      "\r\n",
      "\t\t\t<hr>\r\n",
      "<p><strong>命名不求人娛樂專區</strong>（後果自負）<br><br>\r\n",
      "\t\t\t<a href=\"index.asp\">嬰兒命名</a> | <a href=\"novel.asp\">小說人物命名</a> | <a href=\"novel.asp\">筆名命名</a> |<a href=\"company.asp\"> 企業命名</a> | <a href=\"http://www.richyli.com/randomname/\">英文名</a> <a href=\"http://www.richyli.com/randomname/\">Random Name Generator</a> | </p>\r\n",
      "<hr>\r\n",
      "\t\t\t<p>臨時需要捏造很多中文姓名嗎（<a href=\"usage.htm\">或其他需求</a>）？「中文姓名產生器」經過多年改版，可透過亂數產生極為逼真的中文姓名名單，目前可以組合<b>逾5000萬</b>個不同的中文名字（範例 <a href=\"sample1.htm\">1</a>, <a href=\"sample2.htm\">2</a>, <a href=\"sample3.htm\">3</a>, <a href=\"sample4.htm\">4</a>, <a href=\"sample5.htm\">5</a>, <a href=\"sample6.htm\">6</a>, <a href=\"sample7.htm\">7</a>），如有任何建議，<a href=\"../about/contact.htm\">請寫信告訴我</a>，謝謝！<br>\r\n",
      "\t\t\t<br>這不是命名老師或免費命名軟體，若各位家長要以此替您的新生兒起名或替自己改名時，<strong>請務必三思</strong>，避免日後遺憾。</p>\r\n",
      "\t\t\t<hr>\r\n",
      "\t\t\t<a href=\"usage.htm\">功能</a> | <a href=\"big_10.htm\">台灣十大姓氏</a> | <a href=\"new_double_name.htm\">新興複姓出現</a> | <a href=\"Hot_Yi.htm\">熱門的「怡」</a> | <a href=\"links.htm\">相關網站</a><p>\r\n",
      "\t\t\t\r\n",
      "\t\t\t<p id=\"pagenote\"><a href=\"../about/copyright.htm\" title=\"Copyright\">保留部分權利 (Some rights reserved)</a>, 1996-2013, Richy Li. </p>\r\n",
      "\t\t</td>\r\n",
      "\t</tr>\r\n",
      "</table>\r\n",
      "\r\n",
      "\r\n",
      "<script src=\"http://www.google-analytics.com/urchin.js\" type=\"text/javascript\">\r\n",
      "</script>\r\n",
      "<script type=\"text/javascript\">\r\n",
      "_uacct = \"UA-103495-7\";\r\n",
      "urchinTracker();\r\n",
      "</script>\r\n",
      "</body></html>\n",
      "['劉軍賢', '謝映禎', '楊宣佐', '林天琪', '陳惠玲', '陳浩季', '曾玉萍', '李惠珊', '朱雅芬', '林筱亦', '林盈安', '盧怡君', '戴嘉玲', '鄭冠勳', '江玉梅', '朱予沛', '陳雅志', '柯秀玲', '吳添妃', '盧誠凌', '吳雅雯', '崔裕翔', '郭俊宏', '曾方緯', '溫建勳', '許鎮嬌', '劉昭琇', '黃松威', '張肇穎', '陳宛儒', '陳書瑋', '陳台柏', '蔡芃平', '郭依純', '林如芳', '張麗美', '吳凱婷', '王聖珠', '馬雅芬', '張白博', '季希陽', '許紀伯', '許俊賢', '周嬌璇', '孫文華', '陳靜芳', '黃雅貞', '陳智臻', '謝仕豪', '顏守妍', '莊雅輝', '王金喜', '李信宏', '連玉鳳', '林育茜', '吳怡君', '高白芬', '林佑紫', '黃國芝', '張嘉一', '陳昭華', '張淑玲', '林志傑', '雲台依', '吳冰水', '游佑強', '駱威洋', '楊丞天', '張珮如', '王可俐', '黎婷婷', '趙紫山', '蔡可原', '林于湖', '李文婷', '林佳宇', '尤富軍', '方初樺', '楊仰婷', '連若男', '王佳純', '謝平中', '李姿柏', '王宏達', '李吟凌', '丁健郁', '林承帆', '張雅琪', '張盈枝', '陳怡萱', '蘇毅仁', '蔡政儒', '李佩穎', '陸富秀', '陳慧茹', '劉羿群', '詹羽胤', '韓建佑', '廖冠宇', '劉岳辛']\n"
     ]
    }
   ],
   "source": [
    "import requests\n",
    "from bs4 import BeautifulSoup\n",
    "from lxml import etree\n",
    "\n",
    "#User-Agent:Mozilla/5.0 (Macintosh; Intel Mac OS X 10_11_6) AppleWebKit/537.36 (KHTML, like Gecko) Chrome/63.0.3239.84 Safari/537.36\n",
    "# 以上的 User-Agent 資料可以從瀏覽器的開發者工具裡面取得。\n",
    "headers = {'user-agent': 'User-Agent:Mozilla/5.0 (Macintosh; Intel Mac OS X 10_11_6) AppleWebKit/537.36 (KHTML, like Gecko) Chrome/63.0.3239.84 Safari/537.36'}\n",
    "res = requests.get('http://www.richyli.com/name/index.asp', headers = headers)\n",
    "res.encoding = 'big5'\n",
    "print(res.text)\n",
    "soup = BeautifulSoup(res.text,'lxml')\n",
    "\n",
    "# 使用選擇器來選取所需要的區塊。\n",
    "d =soup.select(\"td[valign=top]\") \n",
    "s = d[0].text.strip() # 針對字串清除頭尾的不可見字元。\n",
    "names = str.split(s, '、') # 字串切割成 list\n",
    "names = names[:-1] # 捨棄掉最後一個\n",
    "print(names)\n"
   ]
  },
  {
   "cell_type": "code",
   "execution_count": 148,
   "metadata": {},
   "outputs": [
    {
     "data": {
      "text/plain": [
       "['.DS_Store', '原始資料表.xlsx', '原始資料表_new.xlsx', '自己生資料.xlsx']"
      ]
     },
     "execution_count": 148,
     "metadata": {},
     "output_type": "execute_result"
    }
   ],
   "source": [
    "import pandas as pd\n",
    "import os\n",
    "\n",
    "\n",
    "\n",
    "basepath = 'datas/'\n",
    "df = pd.DataFrame()\n",
    "\n",
    "df['name'] = pd.Series(names)\n",
    "df['exam1'] = pd.Series(np.random.randint(100, size=100))\n",
    "df['exam2'] = pd.Series(np.random.randint(100, size=100))\n",
    "df['exam3'] = pd.Series(np.random.randint(100, size=100))\n",
    "\n",
    "writer = pd.ExcelWriter(basepath+'自己生資料.xlsx')\n",
    "df.to_excel(writer,'Sheet1')\n",
    "os.listdir(basepath)\n"
   ]
  },
  {
   "cell_type": "code",
   "execution_count": null,
   "metadata": {
    "collapsed": true
   },
   "outputs": [],
   "source": []
  },
  {
   "cell_type": "markdown",
   "metadata": {
    "collapsed": true,
    "slideshow": {
     "slide_type": "slide"
    }
   },
   "source": [
    "# 回歸分析"
   ]
  },
  {
   "cell_type": "code",
   "execution_count": null,
   "metadata": {
    "collapsed": true
   },
   "outputs": [],
   "source": []
  }
 ],
 "metadata": {
  "celltoolbar": "Slideshow",
  "kernelspec": {
   "display_name": "Python 3",
   "language": "python",
   "name": "python3"
  },
  "language_info": {
   "codemirror_mode": {
    "name": "ipython",
    "version": 3
   },
   "file_extension": ".py",
   "mimetype": "text/x-python",
   "name": "python",
   "nbconvert_exporter": "python",
   "pygments_lexer": "ipython3",
   "version": "3.5.1"
  }
 },
 "nbformat": 4,
 "nbformat_minor": 1
}

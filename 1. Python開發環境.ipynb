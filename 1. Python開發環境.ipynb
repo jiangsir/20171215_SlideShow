{
 "cells": [
  {
   "cell_type": "markdown",
   "metadata": {
    "slideshow": {
     "slide_type": "slide"
    }
   },
   "source": [
    "# Python 簡介\n",
    "\n",
    "Python的創始人為吉多·范羅蘇姆（Guido van Rossum）。\n",
    "\n",
    "![圖片](images/Guido_van_Rossum_OSCON_2006.jpg)\n",
    "\n"
   ]
  },
  {
   "cell_type": "markdown",
   "metadata": {
    "slideshow": {
     "slide_type": "subslide"
    }
   },
   "source": [
    "優點：  \n",
    "好上手  \n",
    "簡潔、優雅  \n",
    "少歧異  \n",
    "函式庫豐富  \n",
    "\n",
    "### 號稱：runnable pseudocode"
   ]
  },
  {
   "cell_type": "code",
   "execution_count": null,
   "metadata": {
    "collapsed": true,
    "slideshow": {
     "slide_type": "subslide"
    }
   },
   "outputs": [],
   "source": [
    "科學計算 ◎NumPy（Numerical Python）  \n",
    "○高階大量的維度陣列與矩陣運算。   \n",
    "◎Pandas   \n",
    "○基於 NumPy 再增加了 Series 和 DataFrame 兩種資料 結構。   \n",
    "◎SciPy   \n",
    "○科學計算的工具。  \n",
    "\n",
    "◎ requests  \n",
    "網路存取函式庫，網路爬蟲必備  \n",
    "◎Scikit-learn。   \n",
    "○完整的處理資料處理、探勘、機器學習流程  \n",
    "◉ Preprocessing  \n",
    "◉ Dimensionality reduction  \n",
    "◉ Model selection  \n",
    "◉ Mining/Learning  \n",
    "◉ Experiment  \n"
   ]
  },
  {
   "cell_type": "markdown",
   "metadata": {
    "slideshow": {
     "slide_type": "subslide"
    }
   },
   "source": [
    "科學計算  \n",
    "Matplotlib  \n",
    "用Python實現的類matlab的第三方庫，用以繪製一些高品質的數學二維圖形。  \n",
    "Pandas  \n",
    "用於資料分析、資料建模、資料視覺化的第三方庫。  \n",
    "SciPy  \n",
    "基於Python的matlab實現，旨在實現matlab的所有功能。  \n",
    "NumPy  \n",
    "基於Python的科學計算第三方庫，提供了矩陣，線性代數，傅立葉變換等等的解決方案。  \n",
    "\n"
   ]
  },
  {
   "cell_type": "markdown",
   "metadata": {
    "slideshow": {
     "slide_type": "subslide"
    }
   },
   "source": [
    "GUI  \n",
    "PyGtk  \n",
    "基於Python的GUI程式開發GTK+庫。  \n",
    "PyQt  \n",
    "用於Python的QT開發庫。  \n",
    "WxPython  \n",
    "Python下的GUI編程框架，與MFC的架構相似。  \n",
    "\n"
   ]
  },
  {
   "cell_type": "code",
   "execution_count": null,
   "metadata": {
    "collapsed": true,
    "slideshow": {
     "slide_type": "subslide"
    }
   },
   "outputs": [],
   "source": [
    "BeautifulSoup\n",
    "基於Python的HTML/XML解析器，簡單易用。\n",
    "Requests\n",
    "適合於人類使用的HTTP庫，封裝了許多繁瑣的HTTP功能，極大地簡化了HTTP請求所需要的代碼量。\n",
    "scikit-learn\n",
    "機器學習第三方庫，實現許多知名的機器學習演算法。\n",
    "TensorFlow\n",
    "Google開發維護的開源機器學習庫。\n",
    "Keras\n",
    "基於TensorFlow，Theano與CNTK的高階神經網路API。\n",
    "\n"
   ]
  },
  {
   "cell_type": "markdown",
   "metadata": {
    "slideshow": {
     "slide_type": "slide"
    }
   },
   "source": [
    "# Python 開發環境\n",
    "\n",
    "常見的有：\n",
    "\n",
    "* IDLE\n",
    "* Jupyter notebook\n",
    "* Anaconda\n"
   ]
  },
  {
   "cell_type": "markdown",
   "metadata": {
    "slideshow": {
     "slide_type": "slide"
    }
   },
   "source": [
    "# 使用 Python 內建 IDLE\n",
    "\n",
    "\n"
   ]
  },
  {
   "cell_type": "markdown",
   "metadata": {
    "collapsed": true,
    "slideshow": {
     "slide_type": "slide"
    }
   },
   "source": [
    "# 使用 jupyter notebook"
   ]
  },
  {
   "cell_type": "markdown",
   "metadata": {
    "slideshow": {
     "slide_type": "subslide"
    }
   },
   "source": [
    "## 使用 jupyter notebook 快速查詢\n",
    "\n",
    "### 快捷鍵可以節省很多時間。Jupyter在頂部菜單提供了一個快捷鍵列表：Help > Keyboard Shortcuts 。另外一個方法是使用Cmd + Shift + P ( Linux 和 Windows下 Ctrl + Shift + P亦可)調出命令面板\n"
   ]
  },
  {
   "cell_type": "markdown",
   "metadata": {
    "slideshow": {
     "slide_type": "subslide"
    }
   },
   "source": [
    "## 使用 jupyter notebook 投影片\n",
    "\n",
    "使用 RISE 來呈現投影片  \n",
    "官網： https://github.com/damianavila/RISE\n",
    "\n",
    "最簡單的安裝方式：\n",
    "\n",
    "    Option 1 - Using conda (recommended):\n",
    "    conda install -c damianavila82 rise\n"
   ]
  }
 ],
 "metadata": {
  "celltoolbar": "Slideshow",
  "kernelspec": {
   "display_name": "Python 3",
   "language": "python",
   "name": "python3"
  },
  "language_info": {
   "codemirror_mode": {
    "name": "ipython",
    "version": 3
   },
   "file_extension": ".py",
   "mimetype": "text/x-python",
   "name": "python",
   "nbconvert_exporter": "python",
   "pygments_lexer": "ipython3",
   "version": "3.5.1"
  }
 },
 "nbformat": 4,
 "nbformat_minor": 1
}

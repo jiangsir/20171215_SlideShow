{
 "cells": [
  {
   "cell_type": "markdown",
   "metadata": {
    "collapsed": true,
    "slideshow": {
     "slide_type": "slide"
    }
   },
   "source": [
    "# 用程式產生測試資料檔\n",
    "\n",
    "測資檔的數量一旦變多，手動處理起來就很不方便。然而檔名有一定規律，因此很適合讓程式自動產生測資檔。\n",
    "\n"
   ]
  },
  {
   "cell_type": "markdown",
   "metadata": {
    "slideshow": {
     "slide_type": "subslide"
    }
   },
   "source": [
    "## 首先先建立 infile 的隨機資料\n"
   ]
  },
  {
   "cell_type": "code",
   "execution_count": 42,
   "metadata": {
    "slideshow": {
     "slide_type": "subslide"
    }
   },
   "outputs": [
    {
     "name": "stdout",
     "output_type": "stream",
     "text": [
      "/Users/jiangsir/Documents/20171215-央團南區實作工作坊testfiles/\n"
     ]
    },
    {
     "data": {
      "text/plain": [
       "['a001.in',\n",
       " 'a001.out',\n",
       " 'a001_00.in',\n",
       " 'a001_00.out',\n",
       " 'a001_01.in',\n",
       " 'a001_01.out',\n",
       " 'a001_02.in',\n",
       " 'a001_02.out',\n",
       " 'a001_03.in',\n",
       " 'a001_03.out',\n",
       " 'a001_04.in',\n",
       " 'a001_04.out',\n",
       " 'a001_05.in',\n",
       " 'a001_05.out',\n",
       " 'a001_06.in',\n",
       " 'a001_06.out',\n",
       " 'a001_07.in',\n",
       " 'a001_07.out',\n",
       " 'a001_08.in',\n",
       " 'a001_08.out',\n",
       " 'a001_09.in',\n",
       " 'a001_09.out']"
      ]
     },
     "execution_count": 42,
     "metadata": {},
     "output_type": "execute_result"
    }
   ],
   "source": [
    "import os\n",
    "from random import *\n",
    "\n",
    "basepath = 'testfiles/'\n",
    "problemid = 'a001'\n",
    "\n",
    "def solve(indata):\n",
    "    return str((int(indata)-1)//3+1)\n",
    "\n",
    "\n",
    "def filename(i, inout):\n",
    "    file = problemid+'_{:0>2d}'.format(i)+\".\"+inout\n",
    "    return file\n",
    "\n",
    "for i in range(0, 10):\n",
    "    infile = filename(i, 'in')\n",
    "    f = open(basepath+infile, 'w', encoding = 'UTF-8')    # 也可使用指定路徑等方式，如： C:\\A.txt\n",
    "    f.write(str(randint(1, 100000))+\"\\n\")\n",
    "    f.close()\n",
    "\n",
    "print(os.getcwd()+\"/\"+basepath)\n",
    "os.listdir(basepath)\n"
   ]
  },
  {
   "cell_type": "markdown",
   "metadata": {
    "slideshow": {
     "slide_type": "subslide"
    }
   },
   "source": [
    "## 讀取 infiles 並生成 outfiles"
   ]
  },
  {
   "cell_type": "code",
   "execution_count": 36,
   "metadata": {
    "slideshow": {
     "slide_type": "subslide"
    }
   },
   "outputs": [
    {
     "data": {
      "text/plain": [
       "['a001.in',\n",
       " 'a001.out',\n",
       " 'a001_00.in',\n",
       " 'a001_00.out',\n",
       " 'a001_01.in',\n",
       " 'a001_01.out',\n",
       " 'a001_02.in',\n",
       " 'a001_02.out',\n",
       " 'a001_03.in',\n",
       " 'a001_03.out',\n",
       " 'a001_04.in',\n",
       " 'a001_04.out',\n",
       " 'a001_05.in',\n",
       " 'a001_05.out',\n",
       " 'a001_06.in',\n",
       " 'a001_06.out',\n",
       " 'a001_07.in',\n",
       " 'a001_07.out',\n",
       " 'a001_08.in',\n",
       " 'a001_08.out',\n",
       " 'a001_09.in',\n",
       " 'a001_09.out']"
      ]
     },
     "execution_count": 36,
     "metadata": {},
     "output_type": "execute_result"
    }
   ],
   "source": [
    "basepath = 'testfiles/'\n",
    "\n",
    "\n",
    "for i in range(0, 10):\n",
    "    infile = filename(i, 'in')\n",
    "    outfile = filename(i, 'out')\n",
    "    outf = open(basepath+outfile, 'w', encoding = 'UTF-8')\n",
    "    for indata in open(basepath+infile, 'r', encoding='UTF-8'):\n",
    "        #print(i,end='')\n",
    "        outf.write(solve(indata))\n",
    "    outf.close()\n",
    "os.listdir(basepath)\n"
   ]
  }
 ],
 "metadata": {
  "celltoolbar": "Slideshow",
  "kernelspec": {
   "display_name": "Python 3",
   "language": "python",
   "name": "python3"
  },
  "language_info": {
   "codemirror_mode": {
    "name": "ipython",
    "version": 3
   },
   "file_extension": ".py",
   "mimetype": "text/x-python",
   "name": "python",
   "nbconvert_exporter": "python",
   "pygments_lexer": "ipython3",
   "version": "3.5.1"
  }
 },
 "nbformat": 4,
 "nbformat_minor": 1
}

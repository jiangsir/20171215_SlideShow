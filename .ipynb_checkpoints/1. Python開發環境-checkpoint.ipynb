{
 "cells": [
  {
   "cell_type": "markdown",
   "metadata": {
    "slideshow": {
     "slide_type": "slide"
    }
   },
   "source": [
    "# Python 開發環境\n",
    "\n",
    "常見的有：\n",
    "\n",
    "* IDLE\n",
    "* Jupyter notebook\n",
    "* Anaconda\n"
   ]
  },
  {
   "cell_type": "markdown",
   "metadata": {
    "slideshow": {
     "slide_type": "slide"
    }
   },
   "source": [
    "# 使用 Python 內建 IDLE\n",
    "\n",
    "\n"
   ]
  },
  {
   "cell_type": "markdown",
   "metadata": {
    "collapsed": true,
    "slideshow": {
     "slide_type": "slide"
    }
   },
   "source": [
    "# 使用 jupyter notebook"
   ]
  },
  {
   "cell_type": "markdown",
   "metadata": {
    "slideshow": {
     "slide_type": "subslide"
    }
   },
   "source": [
    "## 使用 jupyter notebook 快速查詢\n",
    "\n",
    "### 快捷鍵可以節省很多時間。Jupyter在頂部菜單提供了一個快捷鍵列表：Help > Keyboard Shortcuts 。另外一個方法是使用Cmd + Shift + P ( Linux 和 Windows下 Ctrl + Shift + P亦可)調出命令面板\n"
   ]
  },
  {
   "cell_type": "markdown",
   "metadata": {
    "slideshow": {
     "slide_type": "subslide"
    }
   },
   "source": [
    "## 使用 jupyter notebook 投影片\n",
    "\n",
    "使用 RISE 來呈現投影片  \n",
    "官網： https://github.com/damianavila/RISE\n",
    "\n",
    "最簡單的安裝方式：\n",
    "\n",
    "    Option 1 - Using conda (recommended):\n",
    "    conda install -c damianavila82 rise\n"
   ]
  }
 ],
 "metadata": {
  "celltoolbar": "Slideshow",
  "kernelspec": {
   "display_name": "Python 3",
   "language": "python",
   "name": "python3"
  },
  "language_info": {
   "codemirror_mode": {
    "name": "ipython",
    "version": 3
   },
   "file_extension": ".py",
   "mimetype": "text/x-python",
   "name": "python",
   "nbconvert_exporter": "python",
   "pygments_lexer": "ipython3",
   "version": "3.5.1"
  }
 },
 "nbformat": 4,
 "nbformat_minor": 1
}

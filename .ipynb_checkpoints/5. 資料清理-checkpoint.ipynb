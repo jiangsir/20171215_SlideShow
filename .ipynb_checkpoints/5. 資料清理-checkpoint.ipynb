{
 "cells": [
  {
   "cell_type": "markdown",
   "metadata": {
    "collapsed": true
   },
   "source": [
    "# 資料清理\n",
    "\n",
    "## 用 pandas 讀入 excel 進行處理。\n",
    "\n",
    "* 資料轉換：民國年->西元年\n",
    "* 別名統一化 : 台大，臺大，台灣大學，國立台灣大學\n",
    "* 舊名換新名：高雄縣->高雄市, 台北縣->新北市\n",
    "* 資料型態異常：０９２０１２３４５６ -> 0920123456\n",
    "* 不規範的日期格式，民國西元混雜\n"
   ]
  },
  {
   "cell_type": "code",
   "execution_count": null,
   "metadata": {
    "collapsed": true
   },
   "outputs": [],
   "source": []
  }
 ],
 "metadata": {
  "kernelspec": {
   "display_name": "Python 3",
   "language": "python",
   "name": "python3"
  },
  "language_info": {
   "codemirror_mode": {
    "name": "ipython",
    "version": 3
   },
   "file_extension": ".py",
   "mimetype": "text/x-python",
   "name": "python",
   "nbconvert_exporter": "python",
   "pygments_lexer": "ipython3",
   "version": "3.5.1"
  }
 },
 "nbformat": 4,
 "nbformat_minor": 1
}
